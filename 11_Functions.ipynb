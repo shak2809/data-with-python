{
  "nbformat": 4,
  "nbformat_minor": 0,
  "metadata": {
    "colab": {
      "provenance": [],
      "include_colab_link": true
    },
    "kernelspec": {
      "name": "python3",
      "display_name": "Python 3"
    },
    "language_info": {
      "name": "python"
    }
  },
  "cells": [
    {
      "cell_type": "markdown",
      "metadata": {
        "id": "view-in-github",
        "colab_type": "text"
      },
      "source": [
        "<a href=\"https://colab.research.google.com/github/shak2809/data-with-python/blob/main/11_Functions.ipynb\" target=\"_parent\"><img src=\"https://colab.research.google.com/assets/colab-badge.svg\" alt=\"Open In Colab\"/></a>"
      ]
    },
    {
      "cell_type": "markdown",
      "metadata": {
        "id": "0T-HIDf3FgQK"
      },
      "source": [
        "# Python functions\n",
        "\n",
        "---"
      ]
    },
    {
      "cell_type": "markdown",
      "metadata": {
        "id": "YM-csYt5FrvE"
      },
      "source": [
        "You have already been using functions that are provided with Python  \n",
        "*  print()\n",
        "*  input()\n",
        "*  randint() *(from random)*\n",
        "\n",
        "You can tell that they are functions because they have brackets after the name. Often there is some data in the brackets (ie something that you want the function to use on this occasion)\n",
        "\n",
        "*  print(\"Hello\")\n",
        "*  input(\"What is your name? \")\n",
        "*  randint(1,6) *(from the random function library)*\n",
        "\n",
        "The data is called a *parameter* or an *argument*.  There can be any number of parameters passed to a function.  Order is important but can sometimes be overridden.\n",
        "\n",
        "Some functions just do something (e.g. print(\"Hello\") will just print the word Hello)..  \n",
        "\n",
        "Other functions produce some new data which you will assign to a variable:  \n",
        "```\n",
        "name = input(\"What is your name? \")  \n",
        "dice_roll = randint(1,6)\n",
        "```\n",
        "\n",
        "Each time you use a function's name in your program, or in another function, you are calling it and it will run.\n",
        "\n"
      ]
    },
    {
      "cell_type": "markdown",
      "metadata": {
        "id": "Gzod-awDOrGj"
      },
      "source": [
        "---\n",
        "### Exercise 1 - len() of a string\n",
        "\n",
        "Write a function called **get_password()** which will get a password of 8 characters:  \n",
        "\n",
        "*  assign the value \"\" to a variable called **password**  \n",
        "*  start a while loop that will continue to loop while the length of `password` is not 8 characters    \n",
        "*  in the loop:  ask the user to enter a `password`\n",
        "*  after the loop, return the password to the calling program, which will print the valid password.  \n",
        "\n",
        "Test input:  \n",
        "abddgejkfjkl   \n",
        "999999999  \n",
        "ABCDEFH   \n",
        "\n",
        "Expected output:  \n",
        "ABCDEFGH  "
      ]
    },
    {
      "cell_type": "code",
      "metadata": {
        "id": "VC1h1g3cFb11"
      },
      "source": [
        "def get_password():\n",
        "  # add your code below here\n",
        "  password=\"\"\n",
        "\n",
        "\n",
        "\n",
        "\n",
        "\n",
        "print(get_password())"
      ],
      "execution_count": null,
      "outputs": []
    },
    {
      "cell_type": "markdown",
      "metadata": {
        "id": "pTC1HwRUQMSa"
      },
      "source": [
        "---\n",
        "### Exercise 2 - capitalise username\n",
        "\n",
        "Write a function called **get_username()** which will:  \n",
        "\n",
        "*  ask the user for a **username**  \n",
        "*  convert the `username` to upper case and assign the new value to a variable called **username_upper**   \n",
        "* if `username_upper` is \"ADMINUSER1\" then return \"Valid user\", otherwise return \"Invalid username\".  The calling program will print the message.  \n",
        "\n",
        "Test input:  \n",
        "admin\n",
        "\n",
        "Expected output:  \n",
        "Invalid username\n",
        "\n",
        "Test input:  \n",
        "AdminUser1\n",
        "\n",
        "Expected output:  \n",
        "Valid user  \n"
      ]
    },
    {
      "cell_type": "code",
      "metadata": {
        "id": "0vusDz8YQMdB",
        "outputId": "67cede9b-d481-4f0b-bf1d-dbe8a6b51b70",
        "colab": {
          "base_uri": "https://localhost:8080/"
        }
      },
      "source": [
        "def get_username():\n",
        "  # add your code below here\n",
        "  username=input(\"enter username\")\n",
        "  username_upper=username.capitalize()\n",
        "  if username==username_upper:\n",
        "    print(\"Valid user\")\n",
        "  else:\n",
        "      print(\"Invalid username\")\n",
        "get_username()\n",
        "\n",
        "\n",
        "\n",
        "print(get_username())"
      ],
      "execution_count": null,
      "outputs": [
        {
          "output_type": "stream",
          "name": "stdout",
          "text": [
            "enter usernameAdmin\n",
            "Valid user\n",
            "enter usernameadmin\n",
            "Invalid username\n",
            "None\n"
          ]
        }
      ]
    },
    {
      "cell_type": "markdown",
      "metadata": {
        "id": "SUcNgc6bRfha"
      },
      "source": [
        "---\n",
        "### Exercise 3 - select correct message\n",
        "\n",
        "Write a function called **get_credentials()** which will:  \n",
        "\n",
        "*  ask the user for a **username**  \n",
        "*  ask the user for a **password**  \n",
        "*  return one of the following messages:\n",
        "*  *  \"Credentials accepted\"  \n",
        "*  *  \"Invalid user\"  \n",
        "*  *  \"Password too short\"  \n",
        "\n",
        "Note:  `username` must be \"AdminUser1\" and the password must be at least 8 characters.  The calling program will print the message.  \n",
        "\n",
        "Test input:  \n",
        "AdminUser1\n",
        "abc999def\n",
        "\n",
        "Expected output:  \n",
        "Credentials accepted\n",
        "\n",
        "Test input:  \n",
        "AdminUser1\n",
        "abc\n",
        "\n",
        "Expected output:  \n",
        "Password too short  \n",
        "\n",
        "Test input:  \n",
        "User1\n",
        "abc999def\n",
        "\n",
        "Expected output:  \n",
        "Invalid user  "
      ]
    },
    {
      "cell_type": "code",
      "metadata": {
        "id": "GUjr6u9sRfrh",
        "outputId": "274a03f9-6312-4796-9eb3-9a862c944381",
        "colab": {
          "base_uri": "https://localhost:8080/"
        }
      },
      "source": [
        "def get_credentials():\n",
        "  username=input(\"enter username\")\n",
        "  password=input(\"enter password\")\n",
        "  user_cap=username.capitalize()\n",
        "  if username==user_cap and len(password)>=8:\n",
        "    print(\"Credentials accepted\")\n",
        "  elif username==username.capitalize() and len(password)<8:\n",
        "    print(\"password is too short\")\n",
        "  else:\n",
        "      print(\"Invalid user\")\n",
        "get_credentials()\n",
        "\n",
        "\n"
      ],
      "execution_count": null,
      "outputs": [
        {
          "output_type": "stream",
          "name": "stdout",
          "text": [
            "enter usernameAdminuser\n",
            "enter password12345678\n",
            "Credentials accepted\n"
          ]
        }
      ]
    },
    {
      "cell_type": "markdown",
      "metadata": {
        "id": "oVIw8G_FTWoS"
      },
      "source": [
        "---\n",
        "### Exercise 3 - round to given dp\n",
        "\n",
        "Write a function called **get_rounded_float()** which will:  \n",
        "\n",
        "*  ask the user for a decimal **number**  \n",
        "*  ask the user for a number of **places** to round to  \n",
        "*  return the number rounded to the requested number of decimal places\n",
        "\n",
        "Note:  The calling program will print the number.  \n",
        "\n",
        "Test input:  \n",
        "3.14159  \n",
        "2\n",
        "\n",
        "Expected output:  \n",
        "3.14  \n",
        "\n",
        "Test input:  \n",
        "98.6666666666666  \n",
        "4  \n",
        "\n",
        "Expected output:  \n",
        "98.6667  "
      ]
    },
    {
      "cell_type": "code",
      "metadata": {
        "id": "AHKffkJbTWxS",
        "colab": {
          "base_uri": "https://localhost:8080/"
        },
        "outputId": "52fc9a58-217d-4922-af95-217ec2ff889f"
      },
      "source": [
        "def get_rounded_float():\n",
        "  number=float(input(\"enter a decimal number\"))\n",
        "  places=int(input(\"number of places to round\"))\n",
        "  roundnumber=round(number,places)\n",
        "  print(roundnumber)\n",
        "get_rounded_float()"
      ],
      "execution_count": null,
      "outputs": [
        {
          "output_type": "stream",
          "name": "stdout",
          "text": [
            "enter a decimal number3.14159\n",
            "number of places to round2\n",
            "3.14\n"
          ]
        }
      ]
    },
    {
      "cell_type": "markdown",
      "metadata": {
        "id": "x4Nl2CQ3T9Aj"
      },
      "source": [
        "---\n",
        "### Exercise 4 - round or not\n",
        "\n",
        "Write a function called **get_rounded_float()** which will:  \n",
        "\n",
        "*  ask the user for a decimal **number**  \n",
        "*  ask the user if they would like to round the number (Y or N) assign this value to **round_number**\n",
        "*  if `round_number` is \"Y\", then ask the user for a number of **places** to round to and return the number rounded to the required number of decimal places  \n",
        "*  otherwise, return the number as it was typed in\n",
        "\n",
        "Note:  The calling program will print the number.  \n",
        "\n",
        "Test input:  \n",
        "3.14159  \n",
        "Y  \n",
        "3\n",
        "\n",
        "Expected output:  \n",
        "3.142\n",
        "\n",
        "Test input:  \n",
        "98.6666666666666  \n",
        "N\n",
        "\n",
        "Expected output:  \n",
        "98.6666666666666  "
      ]
    },
    {
      "cell_type": "code",
      "metadata": {
        "id": "kzLHRud6T9Lo",
        "outputId": "06f22ad4-ebe9-4ef5-e09c-48843a63513a",
        "colab": {
          "base_uri": "https://localhost:8080/"
        }
      },
      "source": [
        "def get_rounded_float():\n",
        "  number=float((input(\"enter a decimal number\")))\n",
        "  round_number=input(\"enter Y or N\")\n",
        "  if round_number==\"Y\":\n",
        "    places=int(input(\"enter a number to round\"))\n",
        "    print(round(number,places))\n",
        "  else:\n",
        "   print(number)\n",
        "\n",
        "get_rounded_float()\n"
      ],
      "execution_count": null,
      "outputs": [
        {
          "output_type": "stream",
          "name": "stdout",
          "text": [
            "enter a decimal number1.78\n",
            "enter Y or NY\n",
            "enter a number to round1\n",
            "1.8\n"
          ]
        }
      ]
    },
    {
      "cell_type": "markdown",
      "metadata": {
        "id": "o2Hl9tOFVA17"
      },
      "source": [
        "---\n",
        "### Exercise 5 - random number and places\n",
        "\n",
        "Write a function called **generate_rounded_float()** which will:  \n",
        "\n",
        "*  import the functions uniform and randint from random (from random import uniform, randint)    \n",
        "Note *: the uniform function will generate a random float between two given boundary numbers ( e.g. number = uniform(10,20)).  It is better practice to name the functions you will be using from a library rather than importing the whole library, which could be large*  \n",
        "\n",
        "*  generate a random decimal **number** between 1 and 100   \n",
        "*  print the `number`   \n",
        "*  generate a random integer **places** between 1 and 4\n",
        "*  print `places`\n",
        "*  return the `number` rounded to the given number of `places`\n",
        "\n",
        "Note **bold text**:  The calling program will print the number.  \n",
        "\n",
        "**Example 1:**  \n",
        "Random number is 3.14159  \n",
        "Number of places is 3  \n",
        "\n",
        "Expected result: 3.142\n",
        "\n",
        "**Example 2**:  \n",
        "Random number is 98.6666666666666  \n",
        "Number of places is 4  \n",
        "\n",
        "Expected result: 98.6667"
      ]
    },
    {
      "cell_type": "code",
      "metadata": {
        "id": "c5ufi-U-VBB5",
        "colab": {
          "base_uri": "https://localhost:8080/"
        },
        "outputId": "0f670b64-7adb-41c1-df6a-dee174442281"
      },
      "source": [
        "from random import randint, uniform\n",
        "def generate_rounded_float():\n",
        "  number=uniform(1,100)\n",
        "  places=randint(1,4)\n",
        "  print(number)\n",
        "  print(places)\n",
        "  rounded_num = round(number, places)\n",
        "  print(rounded_num)\n",
        "generate_rounded_float()"
      ],
      "execution_count": null,
      "outputs": [
        {
          "output_type": "stream",
          "name": "stdout",
          "text": [
            "44.61717145381384\n",
            "3\n",
            "44.617\n"
          ]
        }
      ]
    }
  ]
}