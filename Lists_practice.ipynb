{
  "nbformat": 4,
  "nbformat_minor": 0,
  "metadata": {
    "colab": {
      "provenance": [],
      "include_colab_link": true
    },
    "kernelspec": {
      "name": "python3",
      "display_name": "Python 3"
    },
    "language_info": {
      "name": "python"
    }
  },
  "cells": [
    {
      "cell_type": "markdown",
      "metadata": {
        "id": "view-in-github",
        "colab_type": "text"
      },
      "source": [
        "<a href=\"https://colab.research.google.com/github/shak2809/data-with-python/blob/main/Lists_practice.ipynb\" target=\"_parent\"><img src=\"https://colab.research.google.com/assets/colab-badge.svg\" alt=\"Open In Colab\"/></a>"
      ]
    },
    {
      "cell_type": "markdown",
      "metadata": {
        "id": "Z-M-RCWATK71"
      },
      "source": [
        "# Lists\n",
        "\n",
        "Often we need to store a number of single items of data together so that they can be processed together. This might be because all the data refers to one person (e.g. name, age, gender, etc) OR it might be because we have a set of data (e.g. all the categories that a notice relates to)\n",
        "\n",
        "Python has a range of data structures available including:\n",
        "*   lists  \n",
        "*   tuples  \n",
        "*   dictionaries  \n",
        "*   sets\n",
        "\n",
        "This worksheet looks at lists.\n",
        "\n",
        "## List\n",
        "A list is a set of related, individual data objects, that are indexed and can be processed as a whole, as subsets or as individual items.  Lists are stored, essentially, as contiguous items in memory so that access can be as quick as possible.  However, they are mutable (they can be changed after they are created and stored) and so those mechanisms need to include extra functionality to deal with changing list sizes.\n",
        "\n",
        "A list is created with a name and and equals sign, and all the elements in the list are within square brackets, separated by a comma.  If the element is a string, it will also be in speech marks:\n",
        "\n",
        "```\n",
        "categories_list = [\"well being\", \"local events\", \"community events\", \"families and parents\", \"jobs and volunteering\" ]\n",
        "```\n",
        "\n",
        "## List functions\n",
        "\n",
        "**length of list** - counts the elements in a list and returns the total\n",
        "\n",
        "len(categories_list)\n",
        "\n",
        "## List indexing\n",
        "To access individual elements in a list, we use their position.  Positioning is numbered from 0 at the beginning of the list, up to 1-length of list.The first element in the list is at position 0, the second at position 1 and so on.\n",
        "\n",
        "To make it easy to jump to the end of a list, a negative numbering system is used.  The last element is at position -1 (regardless of the length of the list), the second to last is a position -2, etc. So:  \n",
        "\n",
        "`categories_list[0]` - is the first element in the list  \n",
        "`categories_list[-1]` - is the last element in the list   \n",
        "\n",
        "Lists can be sliced using the position of the first element to include and the position after the last element to include.  So:\n",
        "\n",
        "`categories_list[2:4]` - will get the third and fourth element in the list\n",
        "`categories_list[-4::]` - will get the last 4 elements in the list\n",
        "`categories_list[:5]` - will get the first 5 elements in the list  \n",
        "\n",
        "To change an element in a list, assign a new value to the element at a given position:  \n",
        "\n",
        "`categories_list[1] = \"well-being\"` - changes the value of the second element in the list from its original value to its new value\n",
        "\n",
        "## List methods\n",
        "There is a full list of the methods (things a list can do to change itself) here:  https://www.w3schools.com/python/python_ref_list.asp\n",
        "\n",
        "A method is a function that is applied to an object such as a list.  So:\n",
        "\n",
        "`categories_list.append(\"learning\")` will add \"learning\" to the end of the list of categories.\n",
        "\n",
        "A method will change the list directly, so the instruction can stand on its own and doesn't need to store its result back in the original list.\n",
        "\n",
        "\n"
      ]
    },
    {
      "cell_type": "markdown",
      "metadata": {
        "id": "Ft0dXl7fUuaK"
      },
      "source": [
        "---\n",
        "### Exercise 1 - manage list of categories\n",
        "\n",
        "Write a function, **print_categories()** which will:\n",
        "*  create the list **categories_list** and assign the following list [\"well being\", \"local events\", \"community events\", \"families and parents\", \"jobs and volunteering\" ]\n",
        "*  print the length of the list `categories`\n",
        "*  print the list of categories one per line (using a for loop)\n",
        "\n",
        "## Test\n",
        "The expected output is:\n",
        "\n",
        "```\n",
        "5\n",
        "well being\n",
        "local events\n",
        "community events\n",
        "families and parents\n",
        "jobs and volunteering\n",
        "```"
      ]
    },
    {
      "cell_type": "code",
      "source": [
        "def print_categories():\n",
        "  categories_list=[ \"well being\", \"local events\", \"community events\", \"families and parents\", \"jobs and volunteering\"]\n",
        "  length=len(categories_list)\n",
        "  print(length)\n",
        "  for i in categories_list:\n",
        "    print(i)\n",
        "print_categories()\n"
      ],
      "metadata": {
        "id": "QQSxE92IVlHg",
        "outputId": "b0293a67-61ac-4dc4-96c3-0927c3b94566",
        "colab": {
          "base_uri": "https://localhost:8080/"
        }
      },
      "execution_count": null,
      "outputs": [
        {
          "output_type": "stream",
          "name": "stdout",
          "text": [
            "5\n",
            "well being\n",
            "local events\n",
            "community events\n",
            "families and parents\n",
            "jobs and volunteering\n"
          ]
        }
      ]
    },
    {
      "cell_type": "markdown",
      "source": [
        "---\n",
        "### Exercise 2 - change item in list\n",
        "\n",
        "Write a function, **change_categories()** which will:\n",
        "*  create the same list (**categories list**)\n",
        "*  amend the **first item** in the list so it reads **well-being**\n",
        "*  print the list (either as it is or using a loop to print one item per line)\n",
        "*  return the list of categories\n",
        "\n",
        "**Expected Output**\n",
        "\n",
        "```\n",
        "['well-being','local events','community events','families and parents','jobs and volunteering']\n",
        "```"
      ],
      "metadata": {
        "id": "9YkKNJNrfYiy"
      }
    },
    {
      "cell_type": "code",
      "source": [
        "def change_categories():\n",
        "  categories_list=[\"well being\", \"local events\", \"community events\", \"families and parents\", \"jobs and volunteering\"]\n",
        "  categories_list[1]=\"well being\"\n",
        "  print(categories_list)\n",
        "change_categories()\n"
      ],
      "metadata": {
        "id": "ryPTakrmgeDj",
        "outputId": "525d86db-c3ac-4d21-aa40-1180c9e9a0d7",
        "colab": {
          "base_uri": "https://localhost:8080/"
        }
      },
      "execution_count": null,
      "outputs": [
        {
          "output_type": "stream",
          "name": "stdout",
          "text": [
            "['well being', 'well being', 'community events', 'families and parents', 'jobs and volunteering']\n"
          ]
        }
      ]
    },
    {
      "cell_type": "markdown",
      "source": [
        "---\n",
        "### Exercise 3 - add to list of categories\n",
        "\n",
        "Write a function, **add_category(new_category)** which will:  \n",
        "*  create the same `categories_list` again\n",
        "*  append the new category  (called **new_category**) to the list.  _Hint: use `.append(new_category)`_\n",
        "*  print the list of categories (using a loop)\n",
        "*  return the list of categories (e.g. `return categories_list`)\n",
        "\n",
        "**Add a function call** to run the function with the new category \"learning\" e.g:\n",
        "`updated_list = add_category(\"learning\")`\n",
        "\n",
        "## Test:\n",
        "\n",
        "The expected output is that the original list is printed with the new category added to the end.\n",
        "\n",
        "```\n",
        "well-being\n",
        "local events\n",
        "community events\n",
        "families and parents\n",
        "jobs and volunteering\n",
        "learning\n",
        "```"
      ],
      "metadata": {
        "id": "KpOFEmxJTnXk"
      }
    },
    {
      "cell_type": "code",
      "metadata": {
        "id": "P2HnCG9pb1BS"
      },
      "source": [
        "def add_category(new_category):\n",
        "  categories_list=[\"well being\", \"local events\", \"community events\", \"families and parents\", \"jobs and volunteering\"]\n",
        "  categories_list.append(new_category)\n",
        "  for i in categories_list:\n",
        "    print(i)\n",
        "  return categories_list\n",
        "  updated_lst = add_category(\"learning\")\n",
        "#add_category(\"new_category\")\n"
      ],
      "execution_count": null,
      "outputs": []
    },
    {
      "cell_type": "markdown",
      "metadata": {
        "id": "yNWg08k6bXv0"
      },
      "source": [
        "---\n",
        "### Exercise 4 - create list of locations\n",
        "\n",
        "Write a function **show_locations()** which will:\n",
        "*  create a new list **notice_locations** and add at least 6 locations to the list e.g. Dartford, Medway, Maidstone, Edinburgh, Glasgow, ...\n",
        "*  print the list of locations using a loop\n",
        "\n",
        "## Test\n",
        "An example of the list might be:\n",
        "\n",
        "Edinburgh  \n",
        "Glasgow  \n",
        "Dartford  \n",
        "Medway  \n",
        "Maidstone  \n",
        "Motherwell  "
      ]
    },
    {
      "cell_type": "code",
      "source": [
        "def show_locations():\n",
        "  notice_locations=[\"Dartford\",\"Medway\",\"Maidstone\",\"Edinburgh\",\"Glasgow\",\"Motherwell\"]\n",
        "  for i in notice_locations:\n",
        "    print(i)\n",
        "show_locations()\n",
        "\n"
      ],
      "metadata": {
        "id": "KGJJyOB3VyEK",
        "outputId": "f8cca35d-9a55-4d2d-e011-9c0a0d19ff48",
        "colab": {
          "base_uri": "https://localhost:8080/"
        }
      },
      "execution_count": null,
      "outputs": [
        {
          "output_type": "stream",
          "name": "stdout",
          "text": [
            "Dartford\n",
            "Medway\n",
            "Maidstone\n",
            "Edinburgh\n",
            "Glasgow\n",
            "Motherwell\n"
          ]
        }
      ]
    },
    {
      "cell_type": "markdown",
      "source": [
        "---\n",
        "### Exercise 5 - create list of preferences\n",
        "\n",
        "Write a function **filter_locations()** which will:\n",
        "*  create a new list **locations** and assign the list ['Dartford','Medway','Maidstone','Tunbridge Wells','Dover']\n",
        "*  create a second, empty, list **filtered_locations**\n",
        "*  iterate through the list of `locations` and if the location starts with the letter \"M\", append that location to the new list (**filtered_locations**)\n",
        "*  print the length of each list\n",
        "*  print the first and last items in the `filtered_locations` list\n",
        "*  return the `filtered_locations` list\n",
        "\n",
        "## Test\n",
        "\n",
        "The expected output is:\n",
        "\n",
        "```\n",
        "5\n",
        "2\n",
        "Medway  \n",
        "Maidstone\n",
        "```\n",
        "\n"
      ],
      "metadata": {
        "id": "ddvD-szJXcPo"
      }
    },
    {
      "cell_type": "code",
      "source": [
        "def filter_locations():\n",
        "  locations=[\"Dartford\",\"Medway\",\"Maidstone\",\"Tunbridge Wells\",\"Dover\"]\n",
        "  filtered_locations=[]\n",
        "  for location in locations:\n",
        "    if location.startswith(\"M\"):\n",
        "      filtered_locations.append(location)\n",
        "  print(len(locations))\n",
        "  print(len(filtered_locations))\n",
        "  first_item = filtered_locations[0]\n",
        "  print(first_item)\n",
        "  last_item=filtered_locations[-1]\n",
        "  print(last_item)\n",
        "filter_locations()\n",
        "\n"
      ],
      "metadata": {
        "id": "JA68Wc96Xe9K",
        "colab": {
          "base_uri": "https://localhost:8080/"
        },
        "outputId": "fd2138b7-d17c-4b49-9000-88c65ad43b22"
      },
      "execution_count": null,
      "outputs": [
        {
          "output_type": "stream",
          "name": "stdout",
          "text": [
            "5\n",
            "2\n",
            "Medway\n",
            "Maidstone\n"
          ]
        }
      ]
    },
    {
      "cell_type": "markdown",
      "source": [
        "---\n",
        "### Exercise 6 - is item in list or not?\n",
        "\n",
        "Write a function **is_in_lists()** which will:\n",
        "*  create a new list **all_locations** and with these locations:  Glasgow, Motherwell, Aberdeen, Stirling, Medway, Dartford, Dover\n",
        "*  create a second list **notice_locations** and assign this set of locations:  Dartford, Medway, Aberdeen\n",
        "*  check whether Medway is in both lists and print either \"Medway is in both lists\", or \"Medway is in one list\", or \"Medway is not in either list\", as appropriate.\n",
        "\n",
        "## Test 1\n",
        "Follow the instructions above.  The expected output is:  \n",
        "`Medway is in both lists`\n",
        "\n",
        "## Test 2\n",
        "Remove Medway from the notice_locations list and run the code again.  The expected output is:  \n",
        "`Medway is in one list`\n",
        "\n",
        "## Test 3\n",
        "Remove Medway from the all_locations list and run the code again.  The expected output is:  \n",
        "`Medway is not in either list`"
      ],
      "metadata": {
        "id": "o1R8Tp4zlm-b"
      }
    },
    {
      "cell_type": "code",
      "source": [
        "def is_in_lists():\n",
        "  all_locations=[\"Glasgow\",\"Motherwell\",\"Aberdeen\",\"Stirling\",\"Medway\",\"Dartford\",\"Dover\"]\n",
        "  notice_locations=[\"Dartford\",\"Aberdeen\",\"Medway\"]\n",
        "  loc = \"Medway\"\n",
        "  if loc in all_locations and loc in notice_locations:\n",
        "    print(\"Medway is in both lists\")\n",
        "  elif loc in all_locations or loc in notice_locations:\n",
        "    print(\"Medway is in one list\")\n",
        "  else:\n",
        "    print(\"Medway is not in either list\")\n",
        "is_in_lists()\n",
        "\n"
      ],
      "metadata": {
        "id": "9fxDH5MIm3sW",
        "colab": {
          "base_uri": "https://localhost:8080/"
        },
        "outputId": "f78fa985-33a4-401b-8f3e-51eca76a0532"
      },
      "execution_count": null,
      "outputs": [
        {
          "output_type": "stream",
          "name": "stdout",
          "text": [
            "Medway is not in either list\n"
          ]
        }
      ]
    },
    {
      "cell_type": "code",
      "source": [],
      "metadata": {
        "id": "JplsMzfBOe64"
      },
      "execution_count": null,
      "outputs": []
    },
    {
      "cell_type": "code",
      "source": [],
      "metadata": {
        "id": "ju3c1WikOe3X"
      },
      "execution_count": null,
      "outputs": []
    },
    {
      "cell_type": "code",
      "source": [],
      "metadata": {
        "id": "j6IfBp2_Oemu"
      },
      "execution_count": null,
      "outputs": []
    },
    {
      "cell_type": "markdown",
      "source": [
        "\n",
        "\n",
        "---\n",
        "### Exercise 7 - get the position of a named element in a list\n",
        "\n",
        "Write a function **remove_category(category)** which will:\n",
        "*  create a new list **categories** with the following items: `['well being', 'local events', 'community events', 'families and parents', 'jobs and volunteering']`\n",
        "*  create a new variable called position and assign it the position of the element `\"community events\"` in the list  \n",
        "_Hint:  you can use `.index(\"community events\")`_\n",
        "*  print the `position`\n",
        "\n",
        "\n",
        "## Test:\n",
        "Following the instructions above the expected output is:  \n",
        "```\n",
        "2\n",
        "```"
      ],
      "metadata": {
        "id": "rxH09eBofm_j"
      }
    },
    {
      "cell_type": "code",
      "source": [
        "def remove_category():\n",
        "  categories=[\"well being\",\"local events\",\"community events\",\"families and parents\",\"jobs and volunteering\"]\n",
        "  position=categories.index(\"community events\")\n",
        "  print(position)\n",
        "remove_category()\n"
      ],
      "metadata": {
        "colab": {
          "base_uri": "https://localhost:8080/"
        },
        "id": "M8wnUVNhOii3",
        "outputId": "310ad47e-869c-4f82-9853-e288b905efe4"
      },
      "execution_count": null,
      "outputs": [
        {
          "output_type": "stream",
          "name": "stdout",
          "text": [
            "2\n"
          ]
        }
      ]
    },
    {
      "cell_type": "markdown",
      "source": [
        "---\n",
        "### Exercise 8 - remove an item from a list\n",
        "\n",
        "Write a function **remove_category(category)** which will:\n",
        "*  create a new list **categories** with the following items: `['well being', 'local events', 'community events', 'families and parents', 'jobs and volunteering']`\n",
        "*  remove the 'community events' element from the list\n",
        "*  print the list using a loop\n",
        "\n",
        "\n",
        "## Test:\n",
        "Following the instructions above the expected output is:  \n",
        "```\n",
        "well being\n",
        "local events\n",
        "families and parents\n",
        "jobs and volunteering\n",
        "```"
      ],
      "metadata": {
        "id": "VmjaMKEXPKba"
      }
    },
    {
      "cell_type": "code",
      "source": [
        "def remove_categories():\n",
        "  categories=['well being', 'local events', 'community events', 'families and parents','jobs and volunteering']\n",
        "  categories.remove(\"community events\")\n",
        "  for i in categories:\n",
        "    print(i)\n",
        "remove_categories()"
      ],
      "metadata": {
        "id": "e5cgRvmyfGiE",
        "colab": {
          "base_uri": "https://localhost:8080/"
        },
        "outputId": "e4fc3b9f-88f4-4bd1-918e-c21baa4c383c"
      },
      "execution_count": null,
      "outputs": [
        {
          "output_type": "stream",
          "name": "stdout",
          "text": [
            "well being\n",
            "local events\n",
            "families and parents\n",
            "jobs and volunteering\n"
          ]
        }
      ]
    },
    {
      "cell_type": "markdown",
      "source": [
        "---\n",
        "# List comprehension\n",
        "\n",
        "You can use a special format for creating lists so that rather than typing all items of the list individually, they will be generated using Python code.\n",
        "\n",
        "**Examples:**\n",
        "\n",
        "Generate a list of twelve 0s (\n",
        "\n",
        "`zero_list = [0 for x in range(12)]`\n",
        "\n",
        "Generate a list of the numbers from 0 to 49\n",
        "\n",
        "`fifty_list = [x for x in range(50)]`\n",
        "\n",
        "Generate a list of the first 10 square numbers\n",
        "\n",
        "`squares_list = [ x**2 for x in range(10)]`\n",
        "\n",
        "Generate a list of the numbers from 5 to 15\n",
        "\n",
        "`numbers_list = [x for x in range(5, 16)]`\n",
        "\n",
        "Think about how these lists are being generated.  The first part describes what x will look like (always 0, the current number or the square of the current number)  the part `for x in range(...)` describes the number of items in the list and can sometimes be used to determine value.\n",
        "\n",
        "Use the code box below to see what the output of the lists suggested above would look like."
      ],
      "metadata": {
        "id": "ozooDZjhRI_C"
      }
    },
    {
      "cell_type": "code",
      "source": [
        "generated_list =zero_list = [0 for x in range(12)]\n",
        "print(generated_list)"
      ],
      "metadata": {
        "id": "rwjLa22yRvlw",
        "colab": {
          "base_uri": "https://localhost:8080/"
        },
        "outputId": "52367588-60a5-48f8-c9a3-9dbcf9ef287f"
      },
      "execution_count": null,
      "outputs": [
        {
          "output_type": "stream",
          "name": "stdout",
          "text": [
            "[0, 0, 0, 0, 0, 0, 0, 0, 0, 0, 0, 0]\n"
          ]
        }
      ]
    },
    {
      "cell_type": "markdown",
      "source": [
        "---\n",
        "### Exercise 9 - generate a list of numbers from 1 to 10\n",
        "\n",
        "Write a function **generate_number_list()** that will:\n",
        "\n",
        "*  use list comprehension techniques to create a list of all the whole numbers between 1 and 10\n",
        "*  use a for loop to print the list one number per line\n"
      ],
      "metadata": {
        "id": "PVAdsXHLQqZt"
      }
    },
    {
      "cell_type": "code",
      "source": [
        "def generate_number_list():\n",
        "  number_list=[x for x in range(1,11)]\n",
        "  for x in number_list:\n",
        "    print (x)\n",
        "generate_number_list()\n",
        "\n"
      ],
      "metadata": {
        "id": "6jqnXL0rUiZj",
        "colab": {
          "base_uri": "https://localhost:8080/"
        },
        "outputId": "610e6a65-0683-4ea9-b940-f980cd1245ff"
      },
      "execution_count": null,
      "outputs": [
        {
          "output_type": "stream",
          "name": "stdout",
          "text": [
            "1\n",
            "2\n",
            "3\n",
            "4\n",
            "5\n",
            "6\n",
            "7\n",
            "8\n",
            "9\n",
            "10\n"
          ]
        }
      ]
    },
    {
      "cell_type": "markdown",
      "source": [
        "---\n",
        "### Exercise 10 - generate a list of the letters between A and Z using the ord() function (CHALLENGING)\n",
        "\n",
        "Computers recognise letter as number codes (ASCII codes).  In this coding system the letter A is coded 65, the letter Z is coded 90 and all the other capital letters have the numbers in between, in order.\n",
        "\n",
        "To get the letter, use chr(code)  e.g. chr(65) will give A, chr(68) will give D\n",
        "\n",
        "Write a function **generate_alphabet()** that will:\n",
        "\n",
        "*  use list comprehension to create the list of letters from A to Z using the numbers from 65 to 90 and converting the number (x) to its letter using chr(x)\n",
        "*  print the list to show the alphabet"
      ],
      "metadata": {
        "id": "O0NS2nwuUi73"
      }
    },
    {
      "cell_type": "code",
      "source": [
        "def generate_alphabet():\n",
        "  alphabet=[]\n",
        "  for i in range(65,91):\n",
        "   # print(chr(i))\n",
        "    alphabet.append(chr(i))\n",
        "  print(alphabet)\n",
        "generate_alphabet()\n",
        "\n",
        "\n"
      ],
      "metadata": {
        "id": "8zsQQkNDV9ur",
        "colab": {
          "base_uri": "https://localhost:8080/"
        },
        "outputId": "28ad4451-8f5c-4271-b600-074a37daa729"
      },
      "execution_count": null,
      "outputs": [
        {
          "output_type": "stream",
          "name": "stdout",
          "text": [
            "['A', 'B', 'C', 'D', 'E', 'F', 'G', 'H', 'I', 'J', 'K', 'L', 'M', 'N', 'O', 'P', 'Q', 'R', 'S', 'T', 'U', 'V', 'W', 'X', 'Y', 'Z']\n"
          ]
        }
      ]
    }
  ]
}