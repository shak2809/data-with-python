{
  "nbformat": 4,
  "nbformat_minor": 0,
  "metadata": {
    "colab": {
      "provenance": [],
      "include_colab_link": true
    },
    "kernelspec": {
      "name": "python3",
      "display_name": "Python 3"
    },
    "language_info": {
      "name": "python"
    }
  },
  "cells": [
    {
      "cell_type": "markdown",
      "metadata": {
        "id": "view-in-github",
        "colab_type": "text"
      },
      "source": [
        "<a href=\"https://colab.research.google.com/github/shak2809/data-with-python/blob/main/12_functions_datetime.ipynb\" target=\"_parent\"><img src=\"https://colab.research.google.com/assets/colab-badge.svg\" alt=\"Open In Colab\"/></a>"
      ]
    },
    {
      "cell_type": "markdown",
      "metadata": {
        "id": "7iQyKP-SQiw1"
      },
      "source": [
        "# User-defined functions using datetime library\n",
        "\n",
        "---\n"
      ]
    },
    {
      "cell_type": "markdown",
      "metadata": {
        "id": "Vi93h5I4QnKs"
      },
      "source": [
        "When working with dates and times, fairly common in data sets, we need to be able to extract certain bits of information.  \n",
        "\n",
        "In Python, as with other languages, dates and times are stored in a data structure that combines the two together and stores the information as a number of seconds since a start point (often 1st January 1900).  This is obviously a large number but every bit of information about a date can be extracted from it and used to give a wide range of information.  \n",
        "\n",
        "Have a go at the exercises below to use a selection of datetime functions and return a new bit of data from each, to be printed by the caller.\n",
        "\n",
        "Before you can use datetime functions you will need to import them. Import the datetime functions like this:\n",
        "\n",
        "`from datetime import datetime`  \n",
        "\n",
        "\n",
        "For more information about datetime functions visit [w3Schools-Python datetime](https://www.w3schools.com/python/python_datetime.asp) and [Python docs](https://docs.python.org/3/library/datetime.html)"
      ]
    },
    {
      "cell_type": "markdown",
      "metadata": {
        "id": "MIDLi7CNR034"
      },
      "source": [
        "---\n",
        "### Exercise 1 - print current date and time\n",
        "\n",
        "Write a function that will return the date and time now.  The caller will print it.  \n",
        "\n",
        "*Hint:  the format has been added for you, the other exercises will follow a similar format.   Always remember to import datetime from datetime as shown below*"
      ]
    },
    {
      "cell_type": "code",
      "metadata": {
        "id": "gS6GJdXbQfHp",
        "outputId": "f509218d-01e9-498f-cf0d-d36cdf403508",
        "colab": {
          "base_uri": "https://localhost:8080/"
        }
      },
      "source": [
        "#from datetime import datetime, timezone\n",
        "import datetime\n",
        "# add your function, called get_datetime_now() below here\n",
        "def getdatef():\n",
        "  now_v = datetime.datetime.now()\n",
        "  #date = today.strftime(\"%Y\")\n",
        "  print(now_v)\n",
        "getdatef()"
      ],
      "execution_count": null,
      "outputs": [
        {
          "output_type": "stream",
          "name": "stdout",
          "text": [
            "2023-10-30 19:52:38.181426\n"
          ]
        }
      ]
    },
    {
      "cell_type": "markdown",
      "metadata": {
        "id": "Yy24sL0bUtpF"
      },
      "source": [
        "---\n",
        "Exercise 2 - print the current year\n",
        "\n",
        "Write a function that will return the current year.  The caller will print the year."
      ]
    },
    {
      "cell_type": "code",
      "metadata": {
        "id": "YqlQqPIqUtyr",
        "outputId": "5f9a9921-8485-4c6c-c98c-d6acf82af1b3",
        "colab": {
          "base_uri": "https://localhost:8080/"
        }
      },
      "source": [
        "import datetime\n",
        "# add your function, called get_datetime_now() below here\n",
        "def getdatef():\n",
        "  today=datetime.date.today()\n",
        "  year=today.year\n",
        "  print(year)\n",
        "getdatef()"
      ],
      "execution_count": null,
      "outputs": [
        {
          "output_type": "stream",
          "name": "stdout",
          "text": [
            "2023\n"
          ]
        }
      ]
    },
    {
      "cell_type": "markdown",
      "metadata": {
        "id": "FzSVCaJKV1O1"
      },
      "source": [
        "---\n",
        "### Exercise 3 - print the current day of the week\n",
        "\n",
        "Write a function that will return the current day of the week.  The caller will print it."
      ]
    },
    {
      "cell_type": "code",
      "metadata": {
        "id": "OP4ZIXBWV1Yj",
        "outputId": "a557dc44-63cb-446c-ff21-2010a4419a5d",
        "colab": {
          "base_uri": "https://localhost:8080/"
        }
      },
      "source": [
        "import datetime\n",
        "def getdatef():\n",
        "  today=datetime.date.today()\n",
        "  day_of_week = today.strftime(\"%A\")\n",
        "  print(day_of_week)\n",
        "getdatef()"
      ],
      "execution_count": null,
      "outputs": [
        {
          "output_type": "stream",
          "name": "stdout",
          "text": [
            "Monday\n"
          ]
        }
      ]
    },
    {
      "cell_type": "markdown",
      "metadata": {
        "id": "a8euCtdmWIDE"
      },
      "source": [
        "---\n",
        "### Exercise 4 - create a new date\n",
        "\n",
        "Write a function that will take 3 parameters, day, month, year (3 numbers that make a valid date) and will create, and return a new date.  The caller will print the date."
      ]
    },
    {
      "cell_type": "code",
      "metadata": {
        "id": "FbOFnTwnWILN",
        "outputId": "7e180e95-a455-4e46-95ee-02f2f6e2e7e6",
        "colab": {
          "base_uri": "https://localhost:8080/"
        }
      },
      "source": [
        "import datetime\n",
        "def getdatef():\n",
        "  x = datetime.datetime(2020, 5, 17)\n",
        "  print(x)\n",
        "getdatef()"
      ],
      "execution_count": null,
      "outputs": [
        {
          "output_type": "stream",
          "name": "stdout",
          "text": [
            "2020-05-17 00:00:00\n"
          ]
        }
      ]
    },
    {
      "cell_type": "markdown",
      "metadata": {
        "id": "f5SKVuE0WfcE"
      },
      "source": [
        "---\n",
        "### Exercise 5 - create a valid date\n",
        "\n",
        "Write a function that will take 3 parameters, day, month, year (3 numbers) and will:  \n",
        "*   check that the month is between 1 and 12  \n",
        "*   check that the day is valid for the month (e.g. if the month is 2, then the day must be between 1 and 28 (don't worry about leap years for the moment)  \n",
        "*   if the date is not valid, print an error message and return None (which the caller will print)  \n",
        "*   if the date is valid, store it in a new variable, return the variable and the caller will print it."
      ]
    },
    {
      "cell_type": "code",
      "metadata": {
        "id": "gclt-f9-XfdG",
        "colab": {
          "base_uri": "https://localhost:8080/"
        },
        "outputId": "958ad9e6-6c42-4513-cc94-2f8f417fd468"
      },
      "source": [
        "import datetime\n",
        "def valid_date(day,month,year):\n",
        "  if month>=1 and month <=12:\n",
        "    if month==2 and (day>=1 and day<=28):\n",
        "      print(\"valid date\")\n",
        "    elif month in(1,3,5,7,8,10,12) and (day>=1 and day<=31):\n",
        "      print(\"valid date\")\n",
        "      print(year,\"/\",month,\"/\",day)\n",
        "    elif month in(4,6,9,11) and (day>=1 and day<=30):\n",
        "      print(\"valid date\")\n",
        "      print(year,\"/\",month,\"/\",day)\n",
        "    else:\n",
        "      print(\"invalid date\")\n",
        "      print(\"none\")\n",
        "  else:\n",
        "    print(\"invalid date\")\n",
        "    print(\"none\")\n",
        "valid_date(30,2,2002)\n",
        "\n"
      ],
      "execution_count": null,
      "outputs": [
        {
          "output_type": "stream",
          "name": "stdout",
          "text": [
            "invalid date\n",
            "none\n"
          ]
        }
      ]
    },
    {
      "cell_type": "markdown",
      "metadata": {
        "id": "js7fy2HWXfm2"
      },
      "source": [
        "---\n",
        "### Exercise 6 - is it a leap year?\n",
        "\n",
        "Write a function that will take a date as a parameter (you will need to create the date variable before calling the function) and will determine if it is a leap year, returning True or False.\n",
        "\n",
        "*Hint:  a leap year is a year that is divisible by 4 but the centuries (1900, 2000, etc are only leap years if they are divisible by 400)*"
      ]
    },
    {
      "cell_type": "markdown",
      "metadata": {
        "id": "9BuRDi08YAO0"
      },
      "source": [
        "---\n",
        "### Exercise 7 - display parts of date/time\n",
        "\n",
        "Write a function that will take a date and print from it the following:  \n",
        "*  given date and time  \n",
        "*  year (in full)\n",
        "*  month (as a number)\n",
        "*  month name\n",
        "*  week number of the year  \n",
        "*  weekday of the week (as a number)  \n",
        "*  day of year  \n",
        "*  day of the month  \n",
        "*  day of week (as a name)  \n",
        "\n",
        "*Hint:  see w3Schools for [strftime reference](https://www.w3schools.com/python/python_datetime.asp)*\n",
        "\n"
      ]
    },
    {
      "cell_type": "code",
      "metadata": {
        "id": "zl-37Ez9ahym",
        "colab": {
          "base_uri": "https://localhost:8080/"
        },
        "outputId": "cbf6274f-bdf9-480e-a5b0-c042616837e9"
      },
      "source": [
        "import datetime\n",
        "def print_from_date(day,month,year):\n",
        "  i_date=datetime.datetime(year, month,day)\n",
        "  print(\"Date and time: \",i_date.strftime(\"%c\"))\n",
        "  print(\"Year: \",i_date.strftime(\"%Y\"))\n",
        "  print(\"Month number: \",i_date.strftime(\"%m\"))\n",
        "  print(\"Month name: \",i_date.strftime(\"%B\"))\n",
        "  print(\"Week number of year: \",i_date.strftime(\"%W\"))\n",
        "  print(\"Weekday of week: \",i_date.strftime(\"%w\"))\n",
        "  print(\"Day of year: \",i_date.strftime(\"%j\"))\n",
        "  print(\"Day of the month: \",i_date.strftime(\"%d\"))\n",
        "  print(\"Day of the week: \",i_date.strftime(\"%A\"))\n",
        "print_from_date(2,11,2023)\n"
      ],
      "execution_count": 45,
      "outputs": [
        {
          "output_type": "stream",
          "name": "stdout",
          "text": [
            "Date and time:  Thu Nov  2 00:00:00 2023\n",
            "Year:  2023\n",
            "Month number:  11\n",
            "Month name:  November\n",
            "Week number of year:  44\n",
            "Weekday of week:  4\n",
            "Day of year:  306\n",
            "Day of the month:  02\n",
            "Day of the week:  Thursday\n"
          ]
        }
      ]
    },
    {
      "cell_type": "markdown",
      "metadata": {
        "id": "_rpTIoSDaiBj"
      },
      "source": [
        "---\n",
        "### Exercise 8 - next 6 days\n",
        "\n",
        "Write a function that will take a date and generate the dates of the following 6 days.  It should print each of the 6 days in the form:  \n",
        "\n",
        "DAY OF THE WEEK, MONTH NAME, FULL YEAR\n",
        "\n",
        "Hint:  to generate the days, use the function datetime.timedelta(), there is a good example of its use [here](https://www.geeksforgeeks.org/python-datetime-timedelta-function/)  "
      ]
    },
    {
      "cell_type": "code",
      "metadata": {
        "id": "1d-oXqLLb0vX",
        "colab": {
          "base_uri": "https://localhost:8080/"
        },
        "outputId": "ba019d13-dd11-406f-f6e0-166512702e8a"
      },
      "source": [
        "import datetime\n",
        "def next_six_days(day,month,year):\n",
        "  i_date=datetime.datetime(year, month,day)\n",
        "  for i in range(1,6):\n",
        "    new_Date=i_date + timedelta(days = i)\n",
        "    print(str(new_Date))\n",
        "\n",
        "next_six_days(2,11,2023)"
      ],
      "execution_count": 44,
      "outputs": [
        {
          "output_type": "stream",
          "name": "stdout",
          "text": [
            "2023-11-03 00:00:00\n",
            "2023-11-04 00:00:00\n",
            "2023-11-05 00:00:00\n",
            "2023-11-06 00:00:00\n",
            "2023-11-07 00:00:00\n"
          ]
        }
      ]
    },
    {
      "cell_type": "markdown",
      "metadata": {
        "id": "22Rhwx2Sb1Ey"
      },
      "source": [
        "---\n",
        "### Optional extra practice\n",
        "\n",
        "There are some similar and some more challenging exercises [here](https://www.w3resource.com/python-exercises/date-time-exercise/) if you would like to practice more. The site has its own editor."
      ]
    }
  ]
}