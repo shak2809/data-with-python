{
  "nbformat": 4,
  "nbformat_minor": 0,
  "metadata": {
    "colab": {
      "provenance": [],
      "include_colab_link": true
    },
    "kernelspec": {
      "name": "python3",
      "display_name": "Python 3"
    },
    "language_info": {
      "name": "python"
    }
  },
  "cells": [
    {
      "cell_type": "markdown",
      "metadata": {
        "id": "view-in-github",
        "colab_type": "text"
      },
      "source": [
        "<a href=\"https://colab.research.google.com/github/shak2809/data-with-python/blob/main/14_Dictionaries.ipynb\" target=\"_parent\"><img src=\"https://colab.research.google.com/assets/colab-badge.svg\" alt=\"Open In Colab\"/></a>"
      ]
    },
    {
      "cell_type": "markdown",
      "metadata": {
        "id": "AiiF1h2X4PHP"
      },
      "source": [
        "# Dictionaries\n",
        "\n",
        "---\n",
        "\n",
        "A **dictionary** is a collection of dissimilar data stored together in one *record*. Each item of data has a  (or key) that describes its paired value.  \n",
        "\n",
        "Create a dictionary object by declaring the set of keys and values, e.g.:\n",
        "\n",
        "```\n",
        "   transport = {\n",
        "       \"type\":\"bus\",\n",
        "       \"numPassengers\":72,\n",
        "       \"colour\":\"blue\",\n",
        "       \"fuel\":\"diesel\"\n",
        "   }\n",
        "```\n",
        "\n",
        "To access a value in a dictionary, use its key:  \n",
        "\n",
        "```\n",
        "transport[\"type\"] = \"coach\"\n",
        "transport_type = transport[\"type\"]\n",
        "transport_colour = transport[\"colour\"]\n",
        "transport[\"fuel\"] = petrol\n",
        "```\n",
        "\n",
        "To add a new key/value pair to a dictionary, simply assign a value to a new key:  \n",
        "```\n",
        "transport[\"seats\"] = 54\n",
        "```\n",
        "\n",
        "The transport dictionary will now look like this:  \n",
        "```\n",
        "   transport = {\n",
        "       \"type\":\"bus\",\n",
        "       \"numPassengers\":72,\n",
        "       \"colour\":\"blue\",\n",
        "       \"fuel\":\"diesel\",\n",
        "       \"seats\":54\n",
        "   }\n",
        "```\n",
        "\n"
      ]
    },
    {
      "cell_type": "markdown",
      "metadata": {
        "id": "1uZ5kNWB6CqK"
      },
      "source": [
        "---\n",
        "### Exercise 1 - print dictionary\n",
        "\n",
        "Write a function which will:  \n",
        "\n",
        "*  create an empty dictionary for a person (name, age and postcode, with values \"\", 0 and \"\")\n",
        "*  ask the user for name, age and postcode and assign the values to the correct keys in the dictionary  \n",
        "*  print the dictionary\n",
        "\n",
        "Test input:  \n",
        "Jack Jones  \n",
        "16  \n",
        "AB5 3DF  \n",
        "\n",
        "Expected output:  \n",
        "```{'name':'Jack Jones', 'age':16, 'postcode':'AB5 3DF'}```"
      ]
    },
    {
      "cell_type": "code",
      "metadata": {
        "id": "Ac7VQTj94Mrc",
        "outputId": "9e7e788f-dab8-462e-df60-13b488bd5197",
        "colab": {
          "base_uri": "https://localhost:8080/"
        }
      },
      "source": [
        "def test_dict():\n",
        "  details={\"name\":\"\",\"age\":0,\"postcode\":\"\"}\n",
        "  name= (input(\"enter name\"))\n",
        "  age = int(input(\"enter age\"))\n",
        "  postcode = input(\"enter postcode\")\n",
        "  details['name']=name\n",
        "  details['age']=age\n",
        "  details['postcode']=postcode\n",
        "  print(details)\n",
        "test_dict()"
      ],
      "execution_count": null,
      "outputs": [
        {
          "output_type": "stream",
          "name": "stdout",
          "text": [
            "enter nameJack Jones\n",
            "enter age16\n",
            "enter postcodeAB5 3DF\n",
            "{'name': 'Jack Jones', 'age': 16, 'postcode': 'AB5 3DF'}\n"
          ]
        }
      ]
    },
    {
      "cell_type": "markdown",
      "metadata": {
        "id": "0OtNqNKv7WKm"
      },
      "source": [
        "\n",
        "\n",
        "---\n",
        "### Exercise 2 - create a dictionary\n",
        "\n",
        "Write a function that will create two dictionaries,without values:  \n",
        "\n",
        "1.  person (with keys firstname, surname, birthdate, postcode)  \n",
        "2.  car (with key/value pairs as follows:  make - Vauxhall, model - Corsa, engineSize - 1199, fuelType - unleaded, num_doors - 4)  \n",
        "\n",
        "*   ask the user to enter the values for the person dictionary  \n",
        "*   print, on one line, the person's name from the person dictionary and the make of the car from the car dictionary.\n",
        "\n",
        "Test input:  \n",
        "Jack  \n",
        "Jones  \n",
        "2005/02/02    \n",
        "AB5 3DF  \n",
        "\n",
        "Expected output:  \n",
        "Jack Jones Vauxhall"
      ]
    },
    {
      "cell_type": "code",
      "metadata": {
        "id": "ZyqhaBCC-GdI",
        "outputId": "86275a37-c466-4128-8b2f-4b85bd0aa472",
        "colab": {
          "base_uri": "https://localhost:8080/"
        }
      },
      "source": [
        "def create_dic( ):\n",
        "  person={\"firstname\":\"\",\"surname\":\"\",\"birthdate\":\"\",\"postcode\":\"\"}\n",
        "  car={\"make\":\"Vauxhall\",\"model\":\"Corsa\",\"enginesize\":\"1199\",\"fueltype\":\"unleaded\",\"num_doors\":4}\n",
        "  first_name=input(\"enter firstname\")\n",
        "  surname=input(\"enter surname\")\n",
        "  birthdate=input(\"enter birthdate\")\n",
        "  postcode=input(\"enter postcode\")\n",
        "  person['firstname']=first_name\n",
        "  person['surname']=surname\n",
        "  person['birthdate']=birthdate\n",
        "  person['postcode']=postcode\n",
        "  print(person['firstname'],person['surname'],car['make'])\n",
        "create_dic()\n",
        "\n",
        "\n"
      ],
      "execution_count": null,
      "outputs": [
        {
          "output_type": "stream",
          "name": "stdout",
          "text": [
            "enter firstnameJack\n",
            "enter surnameJones\n",
            "enter birthdate2005/02/02\n",
            "enter postcodeAB5 3DF\n",
            "Jack Jones Vauxhall\n"
          ]
        }
      ]
    },
    {
      "cell_type": "markdown",
      "metadata": {
        "id": "gYuuOUYw-G4I"
      },
      "source": [
        "---\n",
        "### Exercise 3 - check dictionary values\n",
        "\n",
        "Write a new function which will:\n",
        "\n",
        "*  set up the same two dictionaries as in Exercise 2  \n",
        "*  ask the user to enter the details to complete the person record  \n",
        "*  calculate the person's age  \n",
        "*  if the person is under 17 then print a message to say that they can't buy a car as they are too young to drive\n",
        "*  else if the person is under 25 then print a message to say that an engine size under 1200 is recommended  \n",
        "*  ask the user to enter the make of car that the person is looking for  \n",
        "*  if the user enters the same make as that stored in the car record, then print a message to say that you have one car of that make in stock and print all the details of the car that you have the record for\n",
        "*  else (if the user enters any other car make) then print a message to say sorry that you don't have any cars of that make in stock\n",
        "*  print a message to say that the user can get more details for stockist in the <user's postcode> area if they call 01234567890\n",
        "*  print a message to say \"Thank you <user's name> for using our site\"  \n",
        "\n",
        "Test input:  \n",
        "Jack  \n",
        "Jones  \n",
        "2005/02/02  \n",
        "AB5 3DF  \n",
        "Vauxhall  \n",
        "\n",
        "Expected output:  \n",
        "You are too young to drive\n",
        "\n",
        "Test input:  \n",
        "John  \n",
        "Jones  \n",
        "2003/02/02  \n",
        "AB5 3DF  \n",
        "Vauxhall\n",
        "\n",
        "Expected output:  \n",
        "An engine size under 1200 is recommended  \n",
        "We have one Vauxhall in stock, details:  \n",
        "Make - Vauxhall    \n",
        "Model - Corsa    \n",
        "Engine size - 1199  \n",
        "Fuel type - unleaded   \n",
        "Number of doors - 4  \n",
        "You can get more details of stockists near AB5 3DF on 01234567890  \n",
        "Thank you John Jones for using our site.     \n",
        "\n",
        "Test input:  \n",
        "John  \n",
        "Jones  \n",
        "2003/02/02  \n",
        "AB5 3DF  \n",
        "Ford  \n",
        "\n",
        "Expected output:  \n",
        "An engine size under 1200 is recommended  \n",
        "Sorry, we don't have any of that make in stock  \n"
      ]
    },
    {
      "cell_type": "code",
      "metadata": {
        "id": "Wp9Il2JG_hDh",
        "colab": {
          "base_uri": "https://localhost:8080/"
        },
        "outputId": "7a99e1dd-e20f-4ad1-b8fa-14e18ef5f419"
      },
      "source": [
        "import datetime\n",
        "def check_dictionaries_values():\n",
        "\n",
        "  person={\"firstname\":\"\",\"surname\":\"\",\"birthdate\":\"\",\"postcode\":\"\"}\n",
        "  car={\"make\":\"Vauxhall\",\"model\":\"Corsa\",\"enginesize\":\"1199\",\"fueltype\":\"unleaded\",\"num_doors\":4}\n",
        "  first_name=input(\"enter firstname\")\n",
        "  surname=input(\"enter surname\")\n",
        "  birthdate=input(\"enter birthdate\")\n",
        "  postcode=input(\"enter postcode\")\n",
        "  today=datetime.date.today()\n",
        "  year=today.year\n",
        "  birth_year=(birthdate[:4])\n",
        "  age=year-int(birth_year)\n",
        "  print(age)\n",
        "  if age<=17:\n",
        "    print(\"You are too young to drive\")\n",
        "  elif age >17 and age<26:\n",
        "    print(\"An engine size under 1200 is recommended\")\n",
        "    make=input(\"enter make of the car you are looking for\")\n",
        "    if make==(\"Vauxhall\"):\n",
        "        print(\"We have one Vauxhall in stock, details:\")\n",
        "        print(\"Make-Vauxhall\")\n",
        "        print(\"Model-Corsa\")\n",
        "        print(\"Engine size-1199\")\n",
        "        print(\"Fuel type-unleaded\")\n",
        "        print(\"Number of doors-4\")\n",
        "        print(\"You can get more details of stockists near AB5 3DF on 01234567890\")\n",
        "        print(\"Thankyou\",\"firstname\", \"surname\" ,\"for using our site\")\n",
        "    else:\n",
        "          print(\"sorry we dont have any of that make in stock\")\n",
        "\n",
        "check_dictionaries_values()\n",
        "\n",
        "\n",
        "\n",
        "\n",
        "\n",
        "\n",
        "\n",
        "\n"
      ],
      "execution_count": null,
      "outputs": [
        {
          "output_type": "stream",
          "name": "stdout",
          "text": [
            "enter firstnames\n",
            "enter surnames\n",
            "enter birthdate2003/02/02\n",
            "enter postcode3333\n",
            "20\n",
            "An engine size under 1200 is recommended\n",
            "enter make of the car you are looking forVauxhall\n",
            "We have one Vauxhall in stock, details:\n",
            "Make-Vauxhall\n",
            "Model-Corsa\n",
            "Engine size-1199\n",
            "Fuel type-unleaded\n",
            "Number of doors-4\n",
            "You can get more details of stockists near AB5 3DF on 01234567890\n",
            "Thankyou firstname surname for using our site\n"
          ]
        }
      ]
    },
    {
      "cell_type": "markdown",
      "metadata": {
        "id": "I6dUiRwn7Gkg"
      },
      "source": [
        "---\n",
        "### Exercise 4 - print keys and values\n",
        "\n",
        "Two dictionaries have been created below.  You can print a list of the dictionary's keys using `dictionary_name.keys()` and the values using `dictionary_name.values()`\n",
        "\n",
        "Write a function which will accept a dictionary as a parameter and will:  \n",
        "*  print the dictionary keys as a list   \n",
        "*  print the dictionary values as a list  \n",
        "\n",
        "*Hint*:  you will need to cast the keys as a list (`list(dictionary_name.keys()`)  and do the same for the values.\n",
        "\n",
        "**Expected Output**\n",
        "\n",
        "Input: English  \n",
        "Output:\n",
        "['Andy', 'Angela']  \n",
        "[95, 53]  \n",
        "\n",
        "Input: Maths  \n",
        "Output:  \n",
        "['Andy', 'Angela']  \n",
        "[58, 72]\n",
        "\n",
        "\n",
        "\n"
      ]
    },
    {
      "cell_type": "code",
      "metadata": {
        "id": "FApOckhJEsMs",
        "colab": {
          "base_uri": "https://localhost:8080/"
        },
        "outputId": "f59485a8-4960-4067-ac34-4364b24dbe87"
      },
      "source": [
        "def display_scores(d):\n",
        "\n",
        "  print(d.keys())\n",
        "  print(d.values())\n",
        "english_scores = {'Andy': 95, 'Angela': 53}\n",
        "maths_scores = {'Andy': 58, 'Angela': 72}\n",
        "display_scores(maths_scores)\n"
      ],
      "execution_count": null,
      "outputs": [
        {
          "output_type": "stream",
          "name": "stdout",
          "text": [
            "dict_keys(['Andy', 'Angela'])\n",
            "dict_values([58, 72])\n"
          ]
        }
      ]
    },
    {
      "cell_type": "markdown",
      "metadata": {
        "id": "segSpkmBFSJl"
      },
      "source": [
        "---\n",
        "### Exercise 5 - add field\n",
        "\n",
        "Write a function which will:\n",
        "\n",
        "*  create a new dictionary called **science_scores** with values of 0 for both Andy and Angela\n",
        "*  update Andy's score for science to 73 and Angela's score to 73   \n",
        "*  create a new key/value pair by adding another learner to the `science_scores`  dictionary (George has a score of 55)    \n",
        "*  print the `science_scores` dictionary to check results  \n",
        "\n",
        "Expected Output\n",
        "\n",
        "{'Andy': 73, 'Angela': 73, 'George': 55}"
      ]
    },
    {
      "cell_type": "code",
      "metadata": {
        "id": "BL1JM-Z7Gttf",
        "colab": {
          "base_uri": "https://localhost:8080/"
        },
        "outputId": "a2273394-4d8d-4af1-abdc-711d1157f17e"
      },
      "source": [
        "def add_field():\n",
        "  science_scores={'Andy':'0','Angela':'0'}\n",
        "  science_scores['Andy']=73\n",
        "  science_scores['Angela']=73\n",
        "  science_scores.update(George=55)\n",
        "  print(science_scores)\n",
        "add_field()\n",
        "\n"
      ],
      "execution_count": null,
      "outputs": [
        {
          "output_type": "stream",
          "name": "stdout",
          "text": [
            "{'Andy': 73, 'Angela': 73, 'George': 55}\n"
          ]
        }
      ]
    },
    {
      "cell_type": "markdown",
      "metadata": {
        "id": "_Vzv0zlHGt-C"
      },
      "source": [
        "---\n",
        "### Exercise 6 - loop through keys/value pairs\n",
        "\n",
        "Write a function which will use a *for* loop to print the each key/value pair in the science dictionary (recreate this dictionary in this function)\n",
        "\n",
        "*(Hint: you can iterate through the key/value pairs in the dictionary in the same way as you iterate through a loop (e.g. for record in dictionary) and print the record (which is the key) and its value)*\n",
        "\n",
        "Expected output:  \n",
        "\n",
        "Angela 72  \n",
        "Andy 72  \n",
        "George 55  "
      ]
    },
    {
      "cell_type": "code",
      "metadata": {
        "id": "JL40_-W-Hxnt",
        "colab": {
          "base_uri": "https://localhost:8080/"
        },
        "outputId": "fc682f07-47eb-4787-e4ce-27cdd593f27d"
      },
      "source": [
        "def loop_through_keys(d):\n",
        "\n",
        "    for key in d:\n",
        "        print(key, d[key])\n",
        "\n",
        "# Driver's code\n",
        "science_dic = {'Andy': 73, 'Angela': 73, 'George': 55}\n",
        "loop_through_keys(science_dic)\n",
        "\n"
      ],
      "execution_count": null,
      "outputs": [
        {
          "output_type": "stream",
          "name": "stdout",
          "text": [
            "Andy 73\n",
            "Angela 73\n",
            "George 55\n"
          ]
        }
      ]
    },
    {
      "cell_type": "markdown",
      "metadata": {
        "id": "G9wamxzRJdrE"
      },
      "source": [
        "---\n",
        "### Exercise 7 - generate new dictionary  \n",
        "\n",
        "Write a functions which will:\n",
        "*  create a new dictionary where the keys are numbers between 1 and 15 (both included) and the values are square of keys\n",
        "*  print the dictionary\n",
        "\n",
        "Expected output:  \n",
        "{1: 1, 2: 4, 3: 9, 4: 16, 5: 25, 6: 36, 7: 49, 8: 64, 9: 81, 10: 100, 11: 121, 12: 144, 13: 169, 14: 196, 15: 225}"
      ]
    },
    {
      "cell_type": "code",
      "metadata": {
        "id": "1-LI-LVrJ--N",
        "colab": {
          "base_uri": "https://localhost:8080/"
        },
        "outputId": "fefbe0eb-107c-44d6-a0e9-e154a7e170db"
      },
      "source": [
        "dict_square = dict()\n",
        "\n",
        "for x in range(1, 16):\n",
        "    dict_square[x] = x ** 2\n",
        "\n",
        "# Print the dictionary 'd' containing the squares of numbers from 1 to 15.\n",
        "print(dict_square)"
      ],
      "execution_count": null,
      "outputs": [
        {
          "output_type": "stream",
          "name": "stdout",
          "text": [
            "{1: 1, 2: 4, 3: 9, 4: 16, 5: 25, 6: 36, 7: 49, 8: 64, 9: 81, 10: 100, 11: 121, 12: 144, 13: 169, 14: 196, 15: 225}\n"
          ]
        }
      ]
    },
    {
      "cell_type": "markdown",
      "metadata": {
        "id": "t0y4mefwJ_jQ"
      },
      "source": [
        "---\n",
        "### Exercise 8 - colour dictionary  \n",
        "\n",
        "Write a function which will:  \n",
        "*  create a new dictionary record called colour_codes with the values 'red' - '#FF0000', 'green' - '#008000', 'black' - '#000000', 'white' - '#FFFFFF'\n",
        "*  add a new colour code:  'blue' - '#0000FF'    \n",
        "*  remove the colours black and white from the dictionary  \n",
        "\n",
        "*Hint:  there is a list of methods [here](https://www.w3schools.com/python/python_ref_dictionary.asp)*  "
      ]
    },
    {
      "cell_type": "code",
      "metadata": {
        "id": "yod1mUNOMeWg",
        "colab": {
          "base_uri": "https://localhost:8080/"
        },
        "outputId": "5ccd732e-342a-44cf-f64a-e257c0898cc7"
      },
      "source": [
        "def colour_add():\n",
        "  dict_colour_code={'red': '#FF0000', 'green': '#008000', 'black':'#000000', 'white':'#FFFFFF'}\n",
        "  print(dict_colour_code.keys())\n",
        "  dict_colour_code.update({\"blue\": \"#0000FF\"})\n",
        "  print(dict_colour_code.keys())\n",
        "  dict_colour_code.pop(\"black\")\n",
        "  dict_colour_code.pop(\"white\")\n",
        "  print(dict_colour_code.keys())\n",
        "colour_add()"
      ],
      "execution_count": null,
      "outputs": [
        {
          "output_type": "stream",
          "name": "stdout",
          "text": [
            "dict_keys(['red', 'green', 'black', 'white'])\n",
            "dict_keys(['red', 'green', 'black', 'white', 'blue'])\n",
            "dict_keys(['red', 'green', 'blue'])\n"
          ]
        }
      ]
    },
    {
      "cell_type": "markdown",
      "metadata": {
        "id": "gjos_0vuMeyS"
      },
      "source": [
        "---\n",
        "### Exercise 9 - item tuples  \n",
        "\n",
        "Write a function which will:  \n",
        "*  create a new dictionary containing the colour codes for red, green, blue, black and white\n",
        "*  print the key/value pairs of a dictionary as a list of tuples  \n",
        "\n",
        "*Hint:  iterate through colours.items()*"
      ]
    },
    {
      "cell_type": "code",
      "metadata": {
        "id": "EzuMkUypOKTY",
        "colab": {
          "base_uri": "https://localhost:8080/"
        },
        "outputId": "61fed8bc-a705-4af4-fc97-c06e668d2084"
      },
      "source": [
        "def colour_tuple():\n",
        "  dict_colour_code={'red': '#FF0000', 'green': '#008000', 'black':'#000000', 'white':'#FFFFFF', 'blue':'#0000FF'}\n",
        "  for key, value in dict_colour_code.items():\n",
        "    print(key, \":\", value)\n",
        "colour_tuple()"
      ],
      "execution_count": null,
      "outputs": [
        {
          "output_type": "stream",
          "name": "stdout",
          "text": [
            "red : #FF0000\n",
            "green : #008000\n",
            "black : #000000\n",
            "white : #FFFFFF\n",
            "blue : #0000FF\n"
          ]
        }
      ]
    },
    {
      "cell_type": "markdown",
      "metadata": {
        "id": "Jw1ot10cOc6r"
      },
      "source": [
        "---\n",
        "### Exercise 10 - check if empty\n",
        "Taken from w3resouce.com  \n",
        "\n",
        "Write a function which will check if a dictionary is empty or not\n",
        "\n",
        "*Hint:  you can use bool(dictionary_name), if the dictionary is empty then bool(dictionary_name will be false)*\n",
        "\n",
        "Test 1 sample data:\n",
        "{}\n",
        "\n",
        "Expected output:\n",
        "Dictionary is empty  \n",
        "\n",
        "Test 2 sample data:  \n",
        "{\"name\":\"Groucho\", \"occupation\":\"comedian\"}\n",
        "\n",
        "Expected output:  \n",
        "Dictionary is not empty"
      ]
    },
    {
      "cell_type": "code",
      "metadata": {
        "id": "7UdM1TfwRqnt",
        "colab": {
          "base_uri": "https://localhost:8080/"
        },
        "outputId": "3bf2dadf-219c-4913-e0e7-6e8af2f4e726"
      },
      "source": [
        "sample_dict = {'a':1}\n",
        "\n",
        "if not bool(sample_dict):\n",
        "    # Print a message indicating that the dictionary is empty.\n",
        "    print(\"Dictionary is empty\")\n",
        "else:\n",
        "    print(\"Dictionary is not empty\")"
      ],
      "execution_count": null,
      "outputs": [
        {
          "output_type": "stream",
          "name": "stdout",
          "text": [
            "Dictionary is not empty\n"
          ]
        }
      ]
    }
  ]
}